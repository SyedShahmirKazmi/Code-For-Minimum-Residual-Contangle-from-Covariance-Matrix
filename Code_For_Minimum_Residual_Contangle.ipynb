{
  "nbformat": 4,
  "nbformat_minor": 0,
  "metadata": {
    "colab": {
      "provenance": []
    },
    "kernelspec": {
      "name": "python3",
      "display_name": "Python 3"
    },
    "language_info": {
      "name": "python"
    }
  },
  "cells": [
    {
      "cell_type": "code",
      "execution_count": 1,
      "metadata": {
        "id": "POMPn9U3Ak2D"
      },
      "outputs": [],
      "source": [
        "import numpy as np"
      ]
    },
    {
      "cell_type": "code",
      "source": [
        "sigma_y = np.array([[0,-1j],[1j,0]])\n",
        "Omega_2 = np.kron(1j*sigma_y,1j*sigma_y)\n",
        "Omega_3 = np.kron(1j*sigma_y,np.kron(1j*sigma_y,1j*sigma_y))"
      ],
      "metadata": {
        "id": "aGc5nn0aAo62"
      },
      "execution_count": 2,
      "outputs": []
    },
    {
      "cell_type": "code",
      "source": [
        "eigenvalues, eigenvectors = np.linalg.eig(1j*Omega_2)\n",
        "W_neg = min(eigenvalues)"
      ],
      "metadata": {
        "id": "5mhrd-nOArCr"
      },
      "execution_count": 3,
      "outputs": []
    },
    {
      "cell_type": "code",
      "source": [
        "def pauli_y():\n",
        "    return np.array([[0, -1j], [1j, 0]])\n",
        "\n",
        "def i_sigma_y():\n",
        "    return 1j * pauli_y()\n",
        "\n",
        "def direct_sum_sigma_y(n):\n",
        "    \"\"\"\n",
        "    Compute the direct sum of n copies of iσ_y\n",
        "    \"\"\"\n",
        "    sigma_y_blocks = [i_sigma_y() for _ in range(n)]\n",
        "    return np.block([[sigma_y_blocks[i] if i == j else np.zeros((2, 2)) for j in range(n)] for i in range(n)])\n",
        "\n",
        "#for two parties\n",
        "def Two_party_negativity(M):\n",
        "  Pi_j = np.diag([1,-1,1,1])\n",
        "  Ci_j = Pi_j*M*Pi_j.T\n",
        "  sigma_y = np.array([[0,-1j],[1j,0]])\n",
        "  Omega_2 = direct_sum_sigma_y(2)\n",
        "  eigenvalues, eigenvectors = np.linalg.eig(1j*Omega_2*Ci_j)\n",
        "  return min(eigenvalues)\n",
        "\n",
        "def mu_negative_tri(K):\n",
        "  sigma_y = np.array([[0,-1j],[1j,0]])\n",
        "  Omega_3 = direct_sum_sigma_y(3)\n",
        "  eigenvalues, eigenvectors = np.linalg.eig(1j*Omega_3*K)\n",
        "  return min(eigenvalues)\n",
        "\n",
        "\n",
        "#for three parties\n",
        "def Three_party_negativity(M):\n",
        "  P1_23 = np.diag([1, -1, 1, 1, 1, 1])\n",
        "  P2_13 = np.diag([1, 1, 1, -1, 1, 1])\n",
        "  P3_12 = np.diag([1, 1, 1, 1, 1, -1])\n",
        "\n",
        "  C1_23 = mu_negative_tri(P1_23*M*P1_23.T)\n",
        "  C2_13 = mu_negative_tri(P2_13*M*P2_13.T)\n",
        "  C3_12 = mu_negative_tri(P3_12*M*P3_12)\n",
        "\n",
        "  C2_3 = Two_party_negativity(C[2:6,2:6])   # Tracing out subsystem 1\n",
        "  C1_3 = Two_party_negativity(np.kron(C[0:2,0:2], C[4:6,4:6])) # Tracing out subsystem 2\n",
        "  C1_2 = Two_party_negativity(C[0:4,0:4])  # Tracing out subsystem 3\n",
        "\n",
        "  tau1_23 = C1_23 - C1_2 - C1_3\n",
        "  tau2_13 = C2_13 - C1_2 - C2_3\n",
        "  tau3_12 = C3_12 - C1_3 - C2_3\n",
        "\n",
        "  return min(tau1_23,tau2_13,tau3_12), C1_23, C2_13, C3_12"
      ],
      "metadata": {
        "id": "YxywC6MBAtZv"
      },
      "execution_count": 4,
      "outputs": []
    }
  ]
}